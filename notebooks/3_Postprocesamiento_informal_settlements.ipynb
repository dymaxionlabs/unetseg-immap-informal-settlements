{
 "cells": [
  {
   "cell_type": "code",
   "execution_count": null,
   "id": "83f725dd",
   "metadata": {},
   "outputs": [],
   "source": [
    "import os\n",
    "import glob\n",
    "import subprocess\n",
    "import unidecode\n",
    "\n",
    "import fiona\n",
    "import geopandas as gpd\n",
    "import pandas as pd\n",
    "\n",
    "fiona.supported_drivers['KML'] = 'rw'"
   ]
  },
  {
   "cell_type": "code",
   "execution_count": 2,
   "id": "f6fb4ddd",
   "metadata": {},
   "outputs": [
    {
     "name": "stdout",
     "output_type": "stream",
     "text": [
      "/Users/federico/Downloads\r\n"
     ]
    }
   ],
   "source": [
    "!pwd"
   ]
  },
  {
   "cell_type": "code",
   "execution_count": null,
   "id": "3d68cf1d",
   "metadata": {},
   "outputs": [],
   "source": [
    "def run_command(cmd, cwd=None):\n",
    "    subprocess.run(cmd, shell=True, check=True, cwd=cwd)\n",
    "\n",
    "\n",
    "def run_otb_command(cmd, cwd=None):\n",
    "    #otb_profile_path = os.getenv('OTBENV_PROFILE_PATH')\n",
    "    otb_profile_path = '~/OTB-8.0.1-Linux64/otbenv.profile'\n",
    "    if otb_profile_path:\n",
    "        cmd = f\"bash -c 'source {otb_profile_path}; {cmd}'\"\n",
    "    subprocess.run(cmd, shell=True, check=True, cwd=cwd)\n",
    "\n",
    "def zonal_statistics(image_file, vector_file, out_vector_file):\n",
    "    cmd = 'otbcli_ZonalStatistics ' \\\n",
    "        f'-in {image_file} ' \\\n",
    "        f'-inzone.vector.in {vector_file} ' \\\n",
    "        f'-out.vector.filename {out_vector_file} '\n",
    "    run_otb_command(cmd)"
   ]
  },
  {
   "cell_type": "code",
   "execution_count": null,
   "id": "d9747fd2",
   "metadata": {},
   "outputs": [],
   "source": [
    "def download_from_bucket(bucket, path_dst):\n",
    "    if not os.path.exists(path_dst):\n",
    "        cmd = f\"gsutil cp -n  {bucket} {path_dst}\"\n",
    "        subprocess.run(cmd, shell=True)\n",
    "    else:\n",
    "        print(\"File exists\")\n",
    "\n",
    "def upload_to_bucket(bucket, path_orig):\n",
    "    if os.path.exists(path_orig):\n",
    "        cmd = f\"gsutil cp {path_orig} {bucket}\"\n",
    "        subprocess.run(cmd, shell=True)\n",
    "    else:\n",
    "        print(\"File doesn't exists\")\n",
    "\n",
    "def run_postprocess_raster(path_unet_results, lulc_masks, rendered_raster_path, thr, municipio_id):\n",
    "    if not os.path.exists(rendered_raster_path):\n",
    "        #filtro pixeles con probabilidad < threshold\n",
    "        run_otb_command(f'otbcli_BandMath -il {path_unet_results} -out raster_tmp_math.tif -exp \"(im1b1>={thr})*im1b1 + (im1b1<{thr})*0\"')\n",
    "        #alineo tif y lulc recortado\n",
    "        run_otb_command(f\"otbcli_Superimpose -inr raster_tmp_math.tif -inm {lulc_masks} -out {municipio_id}_lulc.tif\")\n",
    "        #filtro pixeles que no cae en el uso del suelo built-up\n",
    "        run_otb_command(f'otbcli_BandMath -il raster_tmp_math.tif {municipio_id}_lulc.tif -out raster_tmp_math_2.tif -exp \"((im2b1==1)*im1b1 + (im2b1==0)*0)\"')\n",
    "        #seteo no data y comprimo el raster\n",
    "        run_otb_command(f'gdal_translate -a_nodata 0 raster_tmp_math_2.tif {municipio_id}_thr.tif -co \"COMPRESS=LZW\" -co \"TILED=YES\"')\n",
    "        subprocess.run(f\"python3 ./script/render_rgb.py {municipio_id}_thr.tif {rendered_raster_path}\", shell=True)\n",
    "        files_del = glob.glob(\"raster_tmp*.gpkg\")\n",
    "        for f in files_del:\n",
    "            os.remove(f)\n",
    "    else:\n",
    "        print('File exists')\n",
    "    \n",
    "def downscale_grid(grid_path, level=17):\n",
    "    gdf_grid = gpd.read_file(grid_path)\n",
    "    gdf_grid['tile_level'] = gdf_grid['tile_id'].apply(lambda x: str(x)[:17])\n",
    "    gdf_grid.dissolve(by='tile_level').to_file(\"grid_tmp_dissolve.gpkg\")\n",
    "\n",
    "def run_postprocess_grid(raster_path, grid_filt_name, thr, grid_downscaled_path=\"grid_tmp_dissolve.gpkg\"):\n",
    "    if not os.path.exists(grid_filt_name):\n",
    "        zonal_statistics(raster_path, grid_downscaled_path, 'grid_tmp.gpkg')\n",
    "        gdf_zs = gpd.read_file('grid_tmp.gpkg')\n",
    "        gdf_zs_max = gdf_zs[['tile_level', 'max_0']].groupby('tile_level').median().reset_index(drop=False)\n",
    "        gdf_zs = pd.merge(gdf_zs_max, gdf_zs[['tile_level', 'geometry']], on='tile_level')\n",
    "        gdf_zs = gpd.GeoDataFrame(gdf_zs, geometry=gdf_zs.geometry)\n",
    "        gdf_zs_filt = gdf_zs[gdf_zs[\"max_0\"]>=thr]\n",
    "        if gdf_zs_filt.shape[0]>0:\n",
    "            gdf_zs_filt.to_file(grid_filt_name, driver='KML')\n",
    "        else:\n",
    "            print(\"Empty grid or probability map\")\n",
    "        files_del = glob.glob(\"grid_tmp*.gpkg\")\n",
    "        for f in files_del:\n",
    "            os.remove(f)\n",
    "    else:\n",
    "        print('File exists')"
   ]
  },
  {
   "cell_type": "markdown",
   "id": "6d3fddcd",
   "metadata": {},
   "source": [
    "Probability threshold (scaled 0..255)"
   ]
  },
  {
   "cell_type": "code",
   "execution_count": null,
   "id": "8aaec28d",
   "metadata": {},
   "outputs": [],
   "source": [
    "thr = 160"
   ]
  },
  {
   "cell_type": "markdown",
   "id": "2185a261",
   "metadata": {},
   "source": [
    "Load municipality geometry"
   ]
  },
  {
   "cell_type": "code",
   "execution_count": null,
   "id": "4b87b2dd",
   "metadata": {},
   "outputs": [],
   "source": [
    "path_municipality = #INSERT GEOMETRIES PATH\n",
    "gdf = gpd.read_file(path_municipality)\n",
    "row = gdf.iloc[0]"
   ]
  },
  {
   "cell_type": "code",
   "execution_count": null,
   "id": "c151fedb",
   "metadata": {},
   "outputs": [],
   "source": [
    "region = row['REGION']\n",
    "province_id = row['DPTO_COD']\n",
    "municipio_id = row['COD_MUNICIPIO']"
   ]
  },
  {
   "cell_type": "code",
   "execution_count": null,
   "id": "f14959a6",
   "metadata": {},
   "outputs": [],
   "source": [
    "dir_results = f\"resultados/{province_id}/{municipio_id}\"\n",
    "os.makedirs(dir_results, exist_ok=True)\n",
    "#probability map final path\n",
    "rendered_raster_path = os.path.join(dir_results, f\"{municipio_id}.tif\")\n",
    "#results from unet path\n",
    "path_unet_results = os.path.join(dir_results, f\"{municipio_id}.tif\")\n",
    "#grid path\n",
    "grid_path = os.path.join(dir_results,f\"{municipio_id}.gpkg\")\n",
    "grid_filt_name = os.path.join(dir_results, f\"{municipio_id}.kml\")\n",
    "#lulc path\n",
    "mask_path = os.path.join(dir_results, f\"{municipio_id}_mask.tif\")"
   ]
  },
  {
   "cell_type": "markdown",
   "id": "87a5f9ea",
   "metadata": {},
   "source": [
    "In case Google Cloud Platform (GCP) buckets needed to download raw data"
   ]
  },
  {
   "cell_type": "code",
   "execution_count": null,
   "id": "782b5bb5",
   "metadata": {},
   "outputs": [],
   "source": [
    "#Buckets paths\n",
    "bucket_unet_result = f\"gs://dym-temp-public/immap-dymaxion/results/{province_id}/{municipio_id}/{municipio_id}.tif\"\n",
    "bucket_mask = f\"gs://dym-temp-public/immap-dymaxion/masks/{province_id}/{municipio_id}/{municipio_id}.tif\"\n",
    "bucket_grid = f\"gs://dym-temp-public/immap-dymaxion/grids/{province_id}/{municipio_id}/{municipio_id}.gpkg\"\n",
    "bucket_kml = f\"gs://dym-temp-public/immap-dymaxion/delivery/{province_id}/{municipio_id}/\"\n",
    "bucket_rendered = f\"gs://dym-temp-public/immap-dymaxion/delivery/{province_id}/{municipio_id}/\"\n",
    "\n",
    "#Download data from GCP\n",
    "download_from_bucket(bucket_unet_result, path_unet_results)\n",
    "download_from_bucket(bucket_mask, mask_path)\n",
    "download_from_bucket(bucket_grid, grid_path)"
   ]
  },
  {
   "cell_type": "markdown",
   "id": "4cb6a420",
   "metadata": {},
   "source": [
    "Performs postprocessing (raster and grid)"
   ]
  },
  {
   "cell_type": "code",
   "execution_count": null,
   "id": "725fe723",
   "metadata": {},
   "outputs": [],
   "source": [
    "run_postprocess_raster(path_unet_results, mask_path, rendered_raster_path, thr, municipio_id)\n",
    "downscale_grid(grid_path)\n",
    "run_postprocess_grid(f\"{municipio_id}_thr.tif\", grid_filt_name, thr)"
   ]
  },
  {
   "cell_type": "markdown",
   "id": "2b9f987d",
   "metadata": {},
   "source": [
    "Uploads results to GCP (if needed)"
   ]
  },
  {
   "cell_type": "code",
   "execution_count": null,
   "id": "56f14e34",
   "metadata": {},
   "outputs": [],
   "source": [
    "upload_to_bucket(bucket_kml, grid_filt_name)\n",
    "upload_to_bucket(bucket_rendered, rendered_raster_path)"
   ]
  }
 ],
 "metadata": {
  "kernelspec": {
   "display_name": "Python 3 (ipykernel)",
   "language": "python",
   "name": "python3"
  },
  "language_info": {
   "codemirror_mode": {
    "name": "ipython",
    "version": 3
   },
   "file_extension": ".py",
   "mimetype": "text/x-python",
   "name": "python",
   "nbconvert_exporter": "python",
   "pygments_lexer": "ipython3",
   "version": "3.9.10"
  }
 },
 "nbformat": 4,
 "nbformat_minor": 5
}
