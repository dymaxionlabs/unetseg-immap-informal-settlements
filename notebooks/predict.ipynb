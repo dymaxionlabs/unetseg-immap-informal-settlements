{
 "cells": [
  {
   "cell_type": "markdown",
   "id": "93c99808",
   "metadata": {},
   "source": [
    "This is a prepared notebook intended to be used within **Dymaxion Labs Platform** that uses pre-trained weights to predict and then post-process its results."
   ]
  },
  {
   "cell_type": "markdown",
   "id": "4e3975c9",
   "metadata": {},
   "source": [
    "## Preparation"
   ]
  },
  {
   "cell_type": "code",
   "execution_count": null,
   "id": "c7d738eb",
   "metadata": {
    "tags": [
     "parameters"
    ]
   },
   "outputs": [],
   "source": [
    "# Task\n",
    "INPUT_ARTIFACTS_URL = \"gs://dym-temp/immap-informal-settlements/test-task/input\"\n",
    "OUTPUT_ARTIFACTS_URL = \"gs://dym-temp/immap-informal-settlements/test-task/output\"\n",
    "\n",
    "WEIGHTS_URL = (\n",
    "    \"gs://dym-ml-models/dymaxionlabs/immap-informal-settlements/v0.1.0/weights.h5\"\n",
    ")\n",
    "\n",
    "# Extract chips\n",
    "SIZE = 100\n",
    "STEP_SIZE = SIZE\n",
    "\n",
    "# Post-process\n",
    "# MIN_AREA = 1000\n",
    "THRESHOLD = 0.6"
   ]
  },
  {
   "cell_type": "code",
   "execution_count": null,
   "id": "994f95e3",
   "metadata": {},
   "outputs": [],
   "source": [
    "import os\n",
    "\n",
    "from labfunctions.shortcuts import settings"
   ]
  },
  {
   "cell_type": "code",
   "execution_count": null,
   "id": "c6bbce61",
   "metadata": {},
   "outputs": [],
   "source": [
    "# Predict\n",
    "WEIGHTS_PATH = os.path.join(settings.BASE_PATH, \"data\", \"weights.h5\")\n",
    "IMAGES_DIR = os.path.join(settings.BASE_PATH, \"data/input/images\")\n",
    "POST_DIR = os.path.join(settings.BASE_PATH, \"data/input/post\")\n",
    "PREDICT_CHIPS_DIR = os.path.join(settings.BASE_PATH, \"data/chips\")\n",
    "PREDICT_RESULTS_DIR = os.path.join(settings.BASE_PATH, \"data/predict\")\n",
    "PREDICT_RASTER_PATH = os.path.join(settings.BASE_PATH, \"data/predict/prob.tif\")\n",
    "\n",
    "# Output\n",
    "OUTPUT_DIR = os.path.join(settings.BASE_PATH, \"data/results/\")\n",
    "OUTPUT_RASTER_PATH = os.path.join(settings.BASE_PATH, \"data/results/prob.tif\")\n",
    "OUTPUT_GRID_PATH = os.path.join(settings.BASE_PATH, \"data/results/grid.gpkg\")"
   ]
  },
  {
   "cell_type": "markdown",
   "id": "a75fb12e",
   "metadata": {},
   "source": [
    "### Configure Google Application credentials"
   ]
  },
  {
   "cell_type": "code",
   "execution_count": null,
   "id": "e22ff992",
   "metadata": {},
   "outputs": [],
   "source": [
    "import json\n",
    "import base64\n",
    "\n",
    "from labfunctions.shortcuts import secrets"
   ]
  },
  {
   "cell_type": "code",
   "execution_count": null,
   "id": "d3687c20",
   "metadata": {},
   "outputs": [],
   "source": [
    "GOOGLE_APPLICATION_CREDENTIALS_PATH = os.path.join(settings.BASE_PATH, \".google_aplication_credentials.json\")\n",
    "\n",
    "with open(GOOGLE_APPLICATION_CREDENTIALS_PATH, \"w\") as f:\n",
    "    f.write(base64.b64decode(secrets[\"GOOGLE_APPLICATION_CREDENTIALS\"]).decode())"
   ]
  },
  {
   "cell_type": "code",
   "execution_count": null,
   "id": "c7c992dd",
   "metadata": {},
   "outputs": [],
   "source": [
    "!gcloud auth activate-service-account --key-file=$GOOGLE_APPLICATION_CREDENTIALS_PATH"
   ]
  },
  {
   "cell_type": "markdown",
   "id": "8b1b9147",
   "metadata": {},
   "source": [
    "### Download pre-trained weights"
   ]
  },
  {
   "cell_type": "code",
   "execution_count": null,
   "id": "9a6c15a5",
   "metadata": {},
   "outputs": [],
   "source": [
    "os.makedirs(os.path.dirname(WEIGHTS_PATH), exist_ok=True)"
   ]
  },
  {
   "cell_type": "code",
   "execution_count": null,
   "id": "39a7dbcc",
   "metadata": {},
   "outputs": [],
   "source": [
    "!gsutil cp -n $WEIGHTS_URL $WEIGHTS_PATH"
   ]
  },
  {
   "cell_type": "markdown",
   "id": "c37c4d82",
   "metadata": {},
   "source": [
    "### Download input artifacts"
   ]
  },
  {
   "cell_type": "code",
   "execution_count": null,
   "id": "fc8553c8",
   "metadata": {},
   "outputs": [],
   "source": [
    "os.makedirs(IMAGES_DIR, exist_ok=True)"
   ]
  },
  {
   "cell_type": "code",
   "execution_count": null,
   "id": "dc0dbecc",
   "metadata": {},
   "outputs": [],
   "source": [
    "!gsutil -m cp -r $INPUT_ARTIFACTS_URL/images/* $IMAGES_DIR"
   ]
  },
  {
   "cell_type": "code",
   "execution_count": null,
   "id": "98376219",
   "metadata": {},
   "outputs": [],
   "source": [
    "os.makedirs(POST_DIR, exist_ok=True)"
   ]
  },
  {
   "cell_type": "code",
   "execution_count": null,
   "id": "b6b5f4ab",
   "metadata": {},
   "outputs": [],
   "source": [
    "!gsutil -m cp -r $INPUT_ARTIFACTS_URL/post/* $POST_DIR"
   ]
  },
  {
   "cell_type": "markdown",
   "id": "c9f497ea",
   "metadata": {},
   "source": [
    "## Prepare prediction dataset"
   ]
  },
  {
   "cell_type": "code",
   "execution_count": null,
   "id": "28187341",
   "metadata": {},
   "outputs": [],
   "source": [
    "!satproc_extract_chips $IMAGES_DIR/*.tif \\\n",
    "    -o $PREDICT_CHIPS_DIR \\\n",
    "    --size $SIZE \\\n",
    "    --step-size $STEP_SIZE \\\n",
    "    --rescale \\\n",
    "    --rescale-mode values --min -15 --max 5"
   ]
  },
  {
   "cell_type": "markdown",
   "id": "763a4a90",
   "metadata": {},
   "source": [
    "## Predict"
   ]
  },
  {
   "cell_type": "code",
   "execution_count": null,
   "id": "48b72556",
   "metadata": {},
   "outputs": [],
   "source": [
    "from unetseg.predict import PredictConfig, predict\n",
    "from unetseg.evaluate import plot_data_results\n",
    "import subprocess\n",
    "import glob"
   ]
  },
  {
   "cell_type": "code",
   "execution_count": null,
   "id": "b09e656b",
   "metadata": {},
   "outputs": [],
   "source": [
    "cfg = PredictConfig(\n",
    "    images_path=PREDICT_CHIPS_DIR,\n",
    "    results_path=PREDICT_RESULTS_DIR,\n",
    "    batch_size=16,\n",
    "    model_path=WEIGHTS_PATH,\n",
    "    height=160,\n",
    "    width=160,\n",
    "    n_channels=3,\n",
    "    n_classes=1,\n",
    "    class_weights=[1],\n",
    ")"
   ]
  },
  {
   "cell_type": "code",
   "execution_count": null,
   "id": "2893e163",
   "metadata": {},
   "outputs": [],
   "source": [
    "predict(cfg)"
   ]
  },
  {
   "cell_type": "code",
   "execution_count": null,
   "id": "462821aa",
   "metadata": {},
   "outputs": [],
   "source": [
    "def build_prediction_raster(*, input_dir, output_path):\n",
    "    filenames = glob.glob(os.path.join(input_dir, \"*.tif\"))\n",
    "\n",
    "    vrt_path = \"/tmp/predict.vrt\"\n",
    "    tmp_list_path = \"/tmp/list.txt\"\n",
    "    with open(tmp_list_path, \"w\") as f:\n",
    "        for line in filenames:\n",
    "            f.write(f\"{line}\\n\")\n",
    "\n",
    "    # Build virtual raster of all chip tifs into a single VRT\n",
    "    subprocess.run(\n",
    "        f\"gdalbuildvrt -input_file_list {tmp_list_path} {vrt_path}\",\n",
    "        shell=True,\n",
    "        check=True,\n",
    "    )\n",
    "    \n",
    "    # Convert VRT to GeoTiff with DEFLATE compression enabled\n",
    "    os.makedirs(os.path.dirname(output_path), exist_ok=True)\n",
    "    subprocess.run(\n",
    "        f\"gdal_translate -of GTiff -co COMPRESS=DEFLATE -co PREDICTOR=2 -co ZLEVEL=9 {vrt_path} {output_path}\",\n",
    "        shell=True,\n",
    "        check=True,\n",
    "    )"
   ]
  },
  {
   "cell_type": "code",
   "execution_count": null,
   "id": "bf0c92e1",
   "metadata": {},
   "outputs": [],
   "source": [
    "build_prediction_raster(\n",
    "    input_dir=PREDICT_RESULTS_DIR,\n",
    "    output_path=PREDICT_RASTER_PATH,\n",
    ")"
   ]
  },
  {
   "cell_type": "markdown",
   "id": "8a554152",
   "metadata": {},
   "source": [
    "## Post-process"
   ]
  },
  {
   "cell_type": "code",
   "execution_count": null,
   "id": "fbf182da",
   "metadata": {},
   "outputs": [],
   "source": [
    "import geopandas as gpd\n",
    "import pandas as pd"
   ]
  },
  {
   "cell_type": "code",
   "execution_count": null,
   "id": "c0214864",
   "metadata": {},
   "outputs": [],
   "source": [
    "def run_command(cmd, cwd=None):\n",
    "    subprocess.run(cmd, shell=True, check=True, cwd=cwd)\n",
    "\n",
    "\n",
    "def run_otb_command(cmd, cwd=None):\n",
    "    otb_profile_path = os.getenv(\"OTBENV_PROFILE_PATH\")\n",
    "    if otb_profile_path:\n",
    "        cmd = f\"bash -c 'source {otb_profile_path}; {cmd}'\"\n",
    "    run_command(cmd, cwd=cwd)\n",
    "\n",
    "\n",
    "def zonal_statistics(image_file, vector_file, out_vector_file):\n",
    "    cmd = (\n",
    "        \"otbcli_ZonalStatistics \"\n",
    "        f\"-in {image_file} \"\n",
    "        f\"-inzone.vector.in {vector_file} \"\n",
    "        f\"-out.vector.filename {out_vector_file} \"\n",
    "    )\n",
    "    run_otb_command(cmd)"
   ]
  },
  {
   "cell_type": "code",
   "execution_count": null,
   "id": "e2d80672",
   "metadata": {},
   "outputs": [],
   "source": [
    "def run_postprocess_raster(\n",
    "    path_unet_results,\n",
    "    lulc_masks,\n",
    "    rendered_raster_path,\n",
    "    thr=0.5,\n",
    "):\n",
    "    thr = thr * 255  # rescale to 0-255\n",
    "\n",
    "    # filtro pixeles con probabilidad < threshold\n",
    "    run_otb_command(\n",
    "        f'otbcli_BandMath -il {path_unet_results} -out /tmp/raster_tmp_math.tif -exp \"(im1b1>={thr})*im1b1 + (im1b1<{thr})*0\"'\n",
    "    )\n",
    "    # alineo tif y lulc recortado\n",
    "    run_otb_command(\n",
    "        f\"otbcli_Superimpose -inr /tmp/raster_tmp_math.tif -inm {lulc_masks} -out /tmp/lulc.tif\"\n",
    "    )\n",
    "    # filtro pixeles que no cae en el uso del suelo built-up\n",
    "    run_otb_command(\n",
    "        f'otbcli_BandMath -il /tmp/raster_tmp_math.tif /tmp/lulc.tif -out /tmp/raster_tmp_math_2.tif -exp \"((im2b1==1)*im1b1 + (im2b1==0)*0)\"'\n",
    "    )\n",
    "    # seteo no data y comprimo el raster\n",
    "    run_otb_command(\n",
    "        f'gdal_translate -a_nodata 0 /tmp/raster_tmp_math_2.tif /tmp/thr.tif -co \"COMPRESS=LZW\" -co \"TILED=YES\"'\n",
    "    )\n",
    "    subprocess.run(\n",
    "        f\"python3 {settings.BASE_PATH}/script/render_rgb.py /tmp/thr.tif {rendered_raster_path}\",\n",
    "        shell=True,\n",
    "    )\n",
    "    files_del = glob.glob(\"raster_tmp*.gpkg\")\n",
    "    for f in files_del:\n",
    "        os.remove(f)\n",
    "\n",
    "\n",
    "def downscale_grid(grid_path, out_grid_path, level=17):\n",
    "    gdf_grid = gpd.read_file(grid_path)\n",
    "    gdf_grid[\"tile_level\"] = gdf_grid[\"tile_id\"].apply(lambda x: str(x)[:17])\n",
    "    os.makedirs(os.path.dirname(out_grid_path), exist_ok=True)\n",
    "    gdf_grid.dissolve(by=\"tile_level\").to_file(out_grid_path)\n",
    "\n",
    "\n",
    "def run_postprocess_grid(raster_path, grid_filt_name, thr, grid_downscaled_path):\n",
    "    zonal_statistics(raster_path, grid_downscaled_path, \"grid_tmp.gpkg\")\n",
    "    gdf_zs = gpd.read_file(\"grid_tmp.gpkg\")\n",
    "    gdf_zs_max = (\n",
    "        gdf_zs[[\"tile_level\", \"max_0\"]]\n",
    "        .groupby(\"tile_level\")\n",
    "        .median()\n",
    "        .reset_index(drop=False)\n",
    "    )\n",
    "    gdf_zs = pd.merge(gdf_zs_max, gdf_zs[[\"tile_level\", \"geometry\"]], on=\"tile_level\")\n",
    "    gdf_zs = gpd.GeoDataFrame(gdf_zs, geometry=gdf_zs.geometry)\n",
    "    gdf_zs_filt = gdf_zs[gdf_zs[\"max_0\"] >= thr]\n",
    "    if gdf_zs_filt.shape[0] > 0:\n",
    "        gdf_zs_filt.to_file(grid_filt_name, driver=\"GPKG\")\n",
    "    else:\n",
    "        print(\"Empty grid or probability map\")\n",
    "    files_del = glob.glob(\"grid_tmp*.gpkg\")\n",
    "    for f in files_del:\n",
    "        os.remove(f)"
   ]
  },
  {
   "cell_type": "code",
   "execution_count": null,
   "id": "9b8138f3",
   "metadata": {},
   "outputs": [],
   "source": [
    "MASK_PATH = os.path.join(POST_DIR, \"lulc_mask.tif\")\n",
    "GRID_PATH = os.path.join(POST_DIR, \"grid.gpkg\")"
   ]
  },
  {
   "cell_type": "code",
   "execution_count": null,
   "id": "d298ee54",
   "metadata": {},
   "outputs": [],
   "source": [
    "run_postprocess_raster(PREDICT_RASTER_PATH, MASK_PATH, OUTPUT_RASTER_PATH, THRESHOLD)"
   ]
  },
  {
   "cell_type": "code",
   "execution_count": null,
   "id": "73c0e435",
   "metadata": {},
   "outputs": [],
   "source": [
    "downscaled_grid_path = \"/tmp/grid_downscaled.gpkg\"\n",
    "\n",
    "downscale_grid(GRID_PATH, downscaled_grid_path)"
   ]
  },
  {
   "cell_type": "code",
   "execution_count": null,
   "id": "5a346ced",
   "metadata": {},
   "outputs": [],
   "source": [
    "run_postprocess_grid(\"/tmp/thr.tif\", OUTPUT_GRID_PATH, THRESHOLD, downscaled_grid_path)"
   ]
  },
  {
   "cell_type": "markdown",
   "id": "ec1e5cbd",
   "metadata": {},
   "source": [
    "## Export results as artifacts"
   ]
  },
  {
   "cell_type": "code",
   "execution_count": null,
   "id": "93d48e0d",
   "metadata": {},
   "outputs": [],
   "source": [
    "!gsutil -m cp -r $OUTPUT_DIR/* $OUTPUT_ARTIFACTS_URL/"
   ]
  }
 ],
 "metadata": {
  "kernelspec": {
   "display_name": "Python 3 (ipykernel)",
   "language": "python",
   "name": "python3"
  },
  "language_info": {
   "codemirror_mode": {
    "name": "ipython",
    "version": 3
   },
   "file_extension": ".py",
   "mimetype": "text/x-python",
   "name": "python",
   "nbconvert_exporter": "python",
   "pygments_lexer": "ipython3",
   "version": "3.10.4"
  }
 },
 "nbformat": 4,
 "nbformat_minor": 5
}
