{
 "cells": [
  {
   "cell_type": "markdown",
   "metadata": {},
   "source": [
    "## Descarga de Imagenes Sentinel-1 a traves de la plataforma Google Earth Engine y generacion de mascaras de area construida a partir de mapas LULC-ESRI.\n",
    "\n",
    "En este notebook se realiza la descarga de imagenes Sentinel 1 desde la plataforma Google Earth Engine (GEE). Es importante aclarar que para poder utilizar la plataforma GEE se debe estar registrado; si es necesario registrarse ingresar en https://earthengine.google.com/ y seguir los pasos alli detallados.\n",
    "\n",
    "Ademas, se generan las mascaras de área construida a partir del mapa de Cobertura y Uso de Suelo 2021 (LULC 2021) elaborado por ESRI y descargados desde https://www.arcgis.com/apps/instant/media/index.html?appid=fc92d38533d440078f17678ebc20e8e2, a ser utilizadas en la etapa de post-procesamiento de los resultados de prediccion. "
   ]
  },
  {
   "cell_type": "markdown",
   "metadata": {},
   "source": [
    "## 1 Descarga de Imagenes Sentinel-1 "
   ]
  },
  {
   "cell_type": "markdown",
   "metadata": {},
   "source": [
    "## 1.1. Importacion de librerias y definicion de variables"
   ]
  },
  {
   "cell_type": "code",
   "execution_count": null,
   "metadata": {},
   "outputs": [],
   "source": [
    "import ee\n",
    "import geemap\n",
    "import os\n",
    "from geemap import geojson_to_ee, ee_to_geojson"
   ]
  },
  {
   "cell_type": "code",
   "execution_count": null,
   "metadata": {},
   "outputs": [],
   "source": [
    "#bucket con los archivos vectoriales de departamentos a ser usados como area de interes (AOI)\n",
    "BUCKET_DPTO = \"gs://dym-indunor-temp/immap/final/aux_data/floods_suscp/dpto_aoi/*.geojson\" \n",
    "\n",
    "#creamos la carpeta a donde descargaremos los archivos vectoriales de los departamentos\n",
    "BASE_PATH = \"../\"\n",
    "PATH_DPTO_FILES = f\"{BASE_PATH}/dpto_files/\"\n",
    "\n",
    "#se define el rango de fechas de descarga de las imagenes\n",
    "startyear = 2021\n",
    "endyear = 2021\n",
    "month = 8\n",
    "startday = 1\n",
    "endday = 31"
   ]
  },
  {
   "cell_type": "markdown",
   "metadata": {},
   "source": [
    "## 1.2. Autenticacion e Inicio de Google Earth Engine\n",
    "\n",
    "Como primer paso se debe autenticar el ingreso a los servidores de GEE y dar inicio. Una vez que se corra la celda a continuacion, se le va a solicitar que ingrese a su cuenta de Google para dar acceso. Siga las instrucciones, copie el codigo de autorizacion y peguelo en la celda vacia."
   ]
  },
  {
   "cell_type": "code",
   "execution_count": null,
   "metadata": {},
   "outputs": [],
   "source": [
    "# Trigger the authentication flow.\n",
    "#ee.Authenticate()\n",
    "\n",
    "# Initialize the library.\n",
    "ee.Initialize()"
   ]
  },
  {
   "cell_type": "markdown",
   "metadata": {},
   "source": [
    "## 1.3. Descarga de archivos vectoriales de departamentos desde bucket"
   ]
  },
  {
   "cell_type": "code",
   "execution_count": null,
   "metadata": {},
   "outputs": [],
   "source": [
    "!mkdir -p $PATH_DPTO_FILES   #crea la carpeta\n",
    "!gsutil -m cp -r $BUCKET_DPTO   $PATH_DPTO_FILES # descarga de imagenes"
   ]
  },
  {
   "cell_type": "code",
   "execution_count": null,
   "metadata": {},
   "outputs": [],
   "source": [
    "verificar que los archivos fueron correctamente descargados\n",
    "!ls $PATH_DPTO_FILES    # descomentar para ver el listado de archivos"
   ]
  },
  {
   "cell_type": "markdown",
   "metadata": {},
   "source": [
    "## 1.4. Descarga de imagenes S1 por departamento\n",
    "\n",
    "Para cada uno de los archivos de departamento, se genera una composicion de imagenes S1. Esta composicion de imagenes se filtra por:\n",
    "\n",
    "1- tipo de instrumento (IW),\n",
    "\n",
    "2- polarizacion (directa-VV), \n",
    "\n",
    "3- de orbita descendiente (que cubre toda Colombia),\n",
    "\n",
    "4- area de interes,\n",
    "\n",
    "5- fecha."
   ]
  },
  {
   "cell_type": "code",
   "execution_count": null,
   "metadata": {},
   "outputs": [],
   "source": [
    "#genero las variables de fechas\n",
    "startdate = ee.Date.fromYMD(startyear,month,startday)\n",
    "enddate = ee.Date.fromYMD(endyear,month,endday)\n",
    "\n",
    "for file in os.listdir(PATH_DPTO_FILES):\n",
    "    aoi = (geojson_to_ee(f'{PATH_DPTO_FILES}{file}')).geometry() #el archivo geojson se convierte a formato compatible con GEE\n",
    "    \n",
    "    # se establece una funcion de recorte de la imagen segun el area de interes\n",
    "    def corte(image):\n",
    "        return image.clip(roi) \n",
    "    \n",
    "    #coleccion de imagenes de Sentinel 1\n",
    "    sentinel1 = ee.ImageCollection('COPERNICUS/S1_GRD')\n",
    "\n",
    "    # polarizacion directa\n",
    "    VVd = sentinel1 \\\n",
    "        .filter(ee.Filter.eq('instrumentMode', 'IW')) \\\n",
    "        .filter(ee.Filter.listContains('transmitterReceiverPolarisation', 'VV')) \\\n",
    "        .filter(ee.Filter.eq('orbitProperties_pass', 'DESCENDING')) \\\n",
    "        .map(corte) \\\n",
    "        .select(['VV']) \\\n",
    "        .filter(ee.Filter.eq('resolution_meters',10)) \\\n",
    "        .filterDate(startdate, enddate).median()\n",
    "    \n",
    "    #polarizacion cruzada\n",
    "    VHd = sentinel1 \\\n",
    "        .filter(ee.Filter.eq('instrumentMode', 'IW')) \\\n",
    "        .filter(ee.Filter.listContains('transmitterReceiverPolarisation', 'VH')) \\\n",
    "        .filter(ee.Filter.eq('orbitProperties_pass', 'DESCENDING')) \\\n",
    "        .map(corte) \\\n",
    "        .select(['VH']) \\\n",
    "        .filter(ee.Filter.eq('resolution_meters',10)) \\\n",
    "        .filterDate(startdate, enddate).median()\n",
    "    \n",
    "    # suavizado para reduccion de 'specle noise'\n",
    "    smoothing_radius = 10\n",
    "    VHd_filtered = VHd.focal_mean(smoothing_radius, 'circle', 'meters')\n",
    "    VVd_filtered = VVd.focal_mean(smoothing_radius, 'circle', 'meters')\n",
    "    \n",
    "    # 3ra componente en funcion de polarizaciones directa y cruzada\n",
    "    VHVVd_filtered = VHd_filtered.divide(VVd_filtered)\n",
    "    \n",
    "    # imagen final\n",
    "    image_desc_2021 = VHd_filtered.addBands(VVd_filtered).addBands(VHVVd_filtered)\n",
    "    \n",
    "    # descarga de imagen S1 por departamento a bucket\n",
    "    task = ee.batch.Export.image.CloudStorage(\n",
    "                    image= image_desc_2021,\n",
    "                    bucket = 'dym-indunor-temp/',\n",
    "                    fileNamePrefix = f\"immap/final/aux_data/inf_settl/s1_images/s1_\",\n",
    "                    maxPixels = 8030040147504,\n",
    "                    scale=10,\n",
    "                    region= aoi,  \n",
    "                    crs='EPSG:4326')                                 \n",
    "    \n",
    "    task.start()"
   ]
  },
  {
   "cell_type": "markdown",
   "metadata": {},
   "source": [
    "-------------------------------------------------------------------------------"
   ]
  },
  {
   "cell_type": "markdown",
   "metadata": {},
   "source": [
    "## 2. Generacion de mascaras de area construida"
   ]
  },
  {
   "cell_type": "markdown",
   "metadata": {},
   "source": [
    "## 2.1. Importacion de librerias y definicion de variables"
   ]
  },
  {
   "cell_type": "code",
   "execution_count": null,
   "metadata": {},
   "outputs": [],
   "source": [
    "from osgeo import gdal\n",
    "from pathlib import Path\n",
    "import glob\n",
    "import numpy as np\n",
    "from os import remove\n",
    "import subprocess\n",
    "from os import remove\n",
    "import geopandas as gpd"
   ]
  },
  {
   "cell_type": "code",
   "execution_count": null,
   "metadata": {},
   "outputs": [],
   "source": [
    "#bucket con los archivos a utilizar\n",
    "#LULC\n",
    "BUCKET_LULC = \"gs://dym-indunor-temp/immap/final/aux_data/inf_settl/LULC/*.tif\"\n",
    "#MUNICIPIOS\n",
    "BUCKET_MUN = \"gs://dym-indunor-temp/immap/v3_1/data/munis_v3.gpkg\"\n",
    "\n",
    "#creamos las carpetas a donde descargaremos los archivos desde el bucket\n",
    "BASE_PATH = \"../\"\n",
    "PATH_LULC_FILES = f\"{BASE_PATH}/LULC_files/\"\n",
    "PATH_MUN_FILES = f\"{BASE_PATH}/MUN_files/\"\n",
    "\n",
    "#carpeta de guardado para cada achivo vectorial de municipio\n",
    "#PATH_MUN_INDIVIDUALES = f'{BASE_PATH}/MUNICIPIOS_INDIVIDUALES/'\n",
    "\n",
    "#carpeta de guardado de las mascara de area construida\n",
    "PATH_LULC_MASK = f\"{BASE_PATH}/LULC_MASK/\"\n",
    "\n",
    "#PARAMETROS GENERALES\n",
    "aoi = 'colombia'\n",
    "prj = \"32618\""
   ]
  },
  {
   "cell_type": "markdown",
   "metadata": {},
   "source": [
    "## 2.2. Descarga de archivos desde bucket"
   ]
  },
  {
   "cell_type": "code",
   "execution_count": null,
   "metadata": {},
   "outputs": [],
   "source": [
    "#LULC\n",
    "!mkdir -p $PATH_LULC_FILES   #crea la carpeta\n",
    "!gsutil -m cp -r $BUCKET_LULC   $PATH_LULC_FILES # descarga de archivos\n",
    "\n",
    "#MUNICIPIOS\n",
    "!mkdir -p $PATH_MUN_FILES   #crea la carpeta\n",
    "!gsutil -m cp -r $BUCKET_MUN   $PATH_MUN_FILES # descarga de archivos"
   ]
  },
  {
   "cell_type": "markdown",
   "metadata": {},
   "source": [
    "## 2.3. Generar mosaico LULC"
   ]
  },
  {
   "cell_type": "code",
   "execution_count": null,
   "metadata": {},
   "outputs": [],
   "source": [
    "# unificar la proyeccion de los archivos LULC\n",
    "for file in os.listdir(PATH_LULC_FILES):\n",
    "    if file.endswith('.tif'):\n",
    "        ds = gdal.Open(f'{PATH_LULC_FILES}{file}')\n",
    "        output_file = f'{PATH_LULC_FILES}{file[0:-4]}_epsg{prj}.vrt'\n",
    "        dsReprj = gdal.Warp(output_file, ds, dstSRS=f'EPSG:{prj}')\n",
    "        ds = None\n",
    "        dsReprj = None"
   ]
  },
  {
   "cell_type": "code",
   "execution_count": null,
   "metadata": {},
   "outputs": [],
   "source": [
    "# mosaico\n",
    "lista = []\n",
    "for file in os.listdir(f'{PATH_LULC_FILES}'):\n",
    "    if file.endswith(\".vrt\"):\n",
    "        lista.append(file)\n",
    "        \n",
    "file_txt = 'files.txt'\n",
    "\n",
    "textfile = open(f'{PATH_LULC_FILES}/{file_txt}', \"w\")\n",
    "for element in lista:\n",
    "    textfile.write(element + \"\\n\")\n",
    "textfile.close()\n",
    "\n",
    "os.chdir(PATH_LULC_FILES)\n",
    "cmd = f'gdalbuildvrt lulc2021_mosaic.vrt -input_file_list {file_txt}'\n",
    "subprocess.run(cmd, shell=True)"
   ]
  },
  {
   "cell_type": "code",
   "execution_count": null,
   "metadata": {},
   "outputs": [],
   "source": [
    "for file in os.listdir(PATH_MUN_FILES):\n",
    "    mun = gpd.read_file(Path(f'{PATH_MUN_FILES}{file}'))\n",
    "    for i, row in mun.iterrows():\n",
    "        municipio = row['COD_MUNICIPIO']\n",
    "        dpto = row['DPTO_COD']\n",
    "        outpath_folder = f'{PATH_MUN_FILES}{dpto}/{municipio}/'\n",
    "        os.makedirs(outpath_folder, exist_ok=True)\n",
    "        outpath_municipio = f'{outpath_folder}{municipio}.geojson'\n",
    "        gpd.GeoDataFrame(geometry=list(row.geometry)).to_file(outpath_municipio)\n",
    "        \n",
    "        mask_folder = f'{PATH_LULC_FILES}BUILT_MASK/{dpto}/{municipio}/'\n",
    "        os.makedirs(mask_folder, exist_ok=True)\n",
    "        \n",
    "        for file in os.listdir(outpath_folder):\n",
    "            search_criteria_geojson = f'{outpath_folder}*.geojson'\n",
    "            subset_files = glob.glob(search_criteria_geojson)\n",
    "            \n",
    "            for fl in subset_files:\n",
    "                infile = f'{PATH_LULC_FILES}lulc2021_mosaic.vrt'\n",
    "                outfile = f'{mask_folder}{municipio}.vrt'\n",
    "                ds = gdal.Open(infile)\n",
    "                ds_recorte = gdal.Warp(outfile, ds, cutlineDSName = fl, cropToCutline = True, dstNodata = np.nan)\n",
    "                ds_recorte = None\n",
    "                \n",
    "                # set no data as nan and mask out non urban classes\n",
    "                raster = gdal.Open(outfile)\n",
    "                noDataVal = raster.GetRasterBand(1).GetNoDataValue() \n",
    "                array = raster.GetRasterBand(1).ReadAsArray(0,0,raster.RasterXSize,raster.RasterYSize).astype(float) \n",
    "                reclass = array\n",
    "                reclass[np.where(array == noDataVal)] = np.nan\n",
    "                reclass[np.where(array != 7)] = 0\n",
    "                reclass[np.where(array == 7)] = 1\n",
    "                \n",
    "                 #save new file\n",
    "                driver = gdal.GetDriverByName('GTiff')\n",
    "                file = driver.Create(f'{mask_folder}/{municipio}.tif', raster.RasterXSize,raster.RasterYSize, 1, gdal.GDT_Float32)\n",
    "                file.GetRasterBand(1).WriteArray(reclass)\n",
    "                file.GetRasterBand(1).SetNoDataValue(np.nan)\n",
    "\n",
    "                # spatial ref system\n",
    "                file.SetProjection(raster.GetProjection())\n",
    "                file.SetGeoTransform(raster.GetGeoTransform())\n",
    "                file.FlushCache()"
   ]
  },
  {
   "cell_type": "code",
   "execution_count": null,
   "metadata": {},
   "outputs": [],
   "source": []
  },
  {
   "cell_type": "code",
   "execution_count": null,
   "metadata": {},
   "outputs": [],
   "source": []
  },
  {
   "cell_type": "code",
   "execution_count": null,
   "metadata": {},
   "outputs": [],
   "source": []
  },
  {
   "cell_type": "code",
   "execution_count": null,
   "metadata": {},
   "outputs": [],
   "source": []
  },
  {
   "cell_type": "code",
   "execution_count": null,
   "metadata": {},
   "outputs": [],
   "source": []
  },
  {
   "cell_type": "code",
   "execution_count": null,
   "metadata": {},
   "outputs": [],
   "source": []
  },
  {
   "cell_type": "code",
   "execution_count": null,
   "metadata": {},
   "outputs": [],
   "source": []
  },
  {
   "cell_type": "code",
   "execution_count": null,
   "metadata": {},
   "outputs": [],
   "source": []
  },
  {
   "cell_type": "code",
   "execution_count": null,
   "metadata": {},
   "outputs": [],
   "source": []
  }
 ],
 "metadata": {
  "hide_input": false,
  "kernelspec": {
   "display_name": "Python 3 (ipykernel)",
   "language": "python",
   "name": "python3"
  },
  "language_info": {
   "codemirror_mode": {
    "name": "ipython",
    "version": 3
   },
   "file_extension": ".py",
   "mimetype": "text/x-python",
   "name": "python",
   "nbconvert_exporter": "python",
   "pygments_lexer": "ipython3",
   "version": "3.7.12"
  },
  "toc": {
   "base_numbering": 1,
   "nav_menu": {},
   "number_sections": true,
   "sideBar": true,
   "skip_h1_title": true,
   "title_cell": "Table of Contents",
   "title_sidebar": "Table of Contents",
   "toc_cell": false,
   "toc_position": {},
   "toc_section_display": true,
   "toc_window_display": true
  },
  "varInspector": {
   "cols": {
    "lenName": 16,
    "lenType": 16,
    "lenVar": 40
   },
   "kernels_config": {
    "python": {
     "delete_cmd_postfix": "",
     "delete_cmd_prefix": "del ",
     "library": "var_list.py",
     "varRefreshCmd": "print(var_dic_list())"
    },
    "r": {
     "delete_cmd_postfix": ") ",
     "delete_cmd_prefix": "rm(",
     "library": "var_list.r",
     "varRefreshCmd": "cat(var_dic_list()) "
    }
   },
   "types_to_exclude": [
    "module",
    "function",
    "builtin_function_or_method",
    "instance",
    "_Feature"
   ],
   "window_display": false
  }
 },
 "nbformat": 4,
 "nbformat_minor": 4
}
