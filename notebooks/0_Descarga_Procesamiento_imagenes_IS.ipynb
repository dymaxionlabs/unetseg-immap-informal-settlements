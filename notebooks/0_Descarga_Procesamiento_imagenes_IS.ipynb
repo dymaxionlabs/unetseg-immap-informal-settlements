{
 "cells": [
  {
   "cell_type": "markdown",
   "metadata": {
    "id": "W-JxWB1QcvCd"
   },
   "source": [
    "\n",
    "#  **Descarga de Imagenes Sentinel-1 a traves de la plataforma Google Earth Engine y generacion de mascaras de area construida a partir de mapas LULC-ESRI.** \n",
    "\n",
    "En este notebook se realiza la descarga de imagenes Sentinel 1 desde la plataforma Google Earth Engine (GEE). Es importante aclarar que para poder utilizar la plataforma GEE se debe estar registrado; si es necesario registrarse ingresar en https://earthengine.google.com/ y seguir los pasos alli detallados.\n",
    "\n",
    "Ademas, se generan las mascaras de área construida a partir del mapa de Cobertura y Uso de Suelo 2021 (LULC 2021) elaborado por ESRI y descargados desde https://www.arcgis.com/apps/instant/media/index.html?appid=fc92d38533d440078f17678ebc20e8e2, a ser utilizadas en la etapa de post-procesamiento de los resultados de prediccion. </font> \n",
    "\n"
   ]
  },
  {
   "cell_type": "code",
   "execution_count": null,
   "metadata": {
    "colab": {
     "base_uri": "https://localhost:8080/"
    },
    "executionInfo": {
     "elapsed": 19310,
     "status": "ok",
     "timestamp": 1658304578854,
     "user": {
      "displayName": "Melisa Apellaniz",
      "userId": "11334549327842058630"
     },
     "user_tz": 180
    },
    "id": "HEv8iXCDvntk",
    "outputId": "de3d311f-958a-4c15-d7bc-049e4448413f"
   },
   "outputs": [],
   "source": [
    "from google.colab import drive\n",
    "drive.mount('/content/drive')"
   ]
  },
  {
   "cell_type": "markdown",
   "metadata": {
    "id": "_h9sWdRBzYjz"
   },
   "source": [
    "# **1. Descarga de Imagenes Sentinel-1**\n"
   ]
  },
  {
   "cell_type": "markdown",
   "metadata": {
    "id": "72XMj-4FDONl"
   },
   "source": [
    "##  **1.1. Instalación e importación de librerias**"
   ]
  },
  {
   "cell_type": "code",
   "execution_count": null,
   "metadata": {
    "id": "hMz4vJRCnrGS"
   },
   "outputs": [],
   "source": [
    "# Installs geemap package\n",
    "import subprocess\n",
    "\n",
    "try:\n",
    "    import geemap\n",
    "except ImportError:\n",
    "    print('geemap package not installed. Installing ...')\n",
    "    subprocess.check_call([\"python\", '-m', 'pip', 'install', 'geemap'])"
   ]
  },
  {
   "cell_type": "code",
   "execution_count": null,
   "metadata": {
    "id": "aeE1M9KooqDZ"
   },
   "outputs": [],
   "source": [
    "import ee\n",
    "import geemap\n",
    "import os\n",
    "from geemap import geojson_to_ee, ee_to_geojson"
   ]
  },
  {
   "cell_type": "markdown",
   "metadata": {
    "id": "3GQwbb4vqgPK"
   },
   "source": [
    "## **1.2. Autenticacion e Inicio de Google Earth Engine**"
   ]
  },
  {
   "cell_type": "code",
   "execution_count": null,
   "metadata": {
    "id": "kdOZX3bRqfhR"
   },
   "outputs": [],
   "source": [
    "try:\n",
    "    ee.Initialize()\n",
    "except Exception as e:\n",
    "    ee.Authenticate()\n",
    "    ee.Initialize()"
   ]
  },
  {
   "cell_type": "markdown",
   "metadata": {
    "id": "LFq8sT_-pauk"
   },
   "source": [
    "## **1.3. Declaración de variables**"
   ]
  },
  {
   "cell_type": "code",
   "execution_count": null,
   "metadata": {
    "id": "-MQ79CZNn3wR"
   },
   "outputs": [],
   "source": [
    "#bucket con los archivos vectoriales de departamentos a ser usados como area de interes (AOI)\n",
    "BUCKET_DPTO = \"gs://dym-workshops-public/immap/asentamientos/aux_data/dpto_aoi/*.geojson\" \n",
    "\n",
    "#creamos la carpeta a donde descargaremos los archivos vectoriales de los departamentos\n",
    "BASE_PATH = \"drive/MyDrive/IMMAP/Informal_settlements/data/\"\n",
    "PATH_DPTO_FILES = f\"{BASE_PATH}dpto_files/\"\n",
    "PATH_S1_FILES = f\"{BASE_PATH}S1_files/\"\n",
    "\n",
    "#se define el rango de fechas de descarga de las imagenes\n",
    "startyear = 2021\n",
    "endyear = 2021\n",
    "month = 8\n",
    "startday = 1\n",
    "endday = 31"
   ]
  },
  {
   "cell_type": "markdown",
   "metadata": {
    "id": "W2JXpN04qSFD"
   },
   "source": [
    "## **1.4. Descarga de archivos vectoriales de departamentos desde bucket**"
   ]
  },
  {
   "cell_type": "code",
   "execution_count": null,
   "metadata": {
    "colab": {
     "base_uri": "https://localhost:8080/"
    },
    "executionInfo": {
     "elapsed": 4545,
     "status": "ok",
     "timestamp": 1658249208311,
     "user": {
      "displayName": "Melisa Apellaniz",
      "userId": "11334549327842058630"
     },
     "user_tz": 180
    },
    "id": "kYBiR5repTUx",
    "outputId": "a3304215-5a8c-4f84-f5bd-4c277af0152a"
   },
   "outputs": [],
   "source": [
    "#Creación del directorio donde guardaremos los archivos a descargar\n",
    "!mkdir -p $PATH_DPTO_FILES #crea el directorio\n",
    "!mkdir -p $PATH_S1_FILES #crea el directorio\n",
    "\n",
    "#Descarga de archivos desde el bucket\n",
    "!gsutil -m cp -r $BUCKET_DPTO $PATH_DPTO_FILES "
   ]
  },
  {
   "cell_type": "code",
   "execution_count": null,
   "metadata": {
    "colab": {
     "base_uri": "https://localhost:8080/"
    },
    "executionInfo": {
     "elapsed": 9,
     "status": "ok",
     "timestamp": 1658249208311,
     "user": {
      "displayName": "Melisa Apellaniz",
      "userId": "11334549327842058630"
     },
     "user_tz": 180
    },
    "id": "1lfGd8zkutKa",
    "outputId": "9764fc79-3058-40c8-be9b-ad1d2c02036b"
   },
   "outputs": [],
   "source": [
    "#verificar que los archivos fueron correctamente descargados\n",
    "!ls $PATH_DPTO_FILES    # descomentar para ver el listado de archivos"
   ]
  },
  {
   "cell_type": "markdown",
   "metadata": {
    "id": "dutqRFHwx-NS"
   },
   "source": [
    "## **1.5. Descarga de imagenes S1 por departamento**\n",
    "\n",
    "Para cada uno de los archivos de departamento, se genera una composicion de imagenes S1. Esta composicion de imagenes se filtra por:\n",
    "\n",
    "1- tipo de instrumento (IW),\n",
    "\n",
    "2- polarizacion (directa-VV), \n",
    "\n",
    "3- de orbita descendiente (que cubre toda Colombia),\n",
    "\n",
    "4- area de interes,\n",
    "\n",
    "5- fecha."
   ]
  },
  {
   "cell_type": "code",
   "execution_count": null,
   "metadata": {
    "colab": {
     "base_uri": "https://localhost:8080/"
    },
    "executionInfo": {
     "elapsed": 33147,
     "status": "ok",
     "timestamp": 1658249242866,
     "user": {
      "displayName": "Melisa Apellaniz",
      "userId": "11334549327842058630"
     },
     "user_tz": 180
    },
    "id": "vV3JM-t_x857",
    "outputId": "818ecd2b-b72d-4304-ac12-e30ec3f415dc"
   },
   "outputs": [],
   "source": [
    "#genero las variables de fechas\n",
    "startdate = ee.Date.fromYMD(startyear,month,startday)\n",
    "enddate = ee.Date.fromYMD(endyear,month,endday)\n",
    "\n",
    "for file in os.listdir(PATH_DPTO_FILES):\n",
    "    if file.endswith('sucre_epsg4326.geojson'):\n",
    "        aoi = (geojson_to_ee(f'{PATH_DPTO_FILES}{file}')).geometry() #el archivo geojson se convierte a formato compatible con GEE\n",
    "    \n",
    "        # se establece una funcion de recorte de la imagen segun el area de interes\n",
    "        def corte(image):\n",
    "            return image.clip(aoi) \n",
    "    \n",
    "        #coleccion de imagenes de Sentinel 1\n",
    "        sentinel1 = ee.ImageCollection('COPERNICUS/S1_GRD')\n",
    "\n",
    "        # polarizacion directa\n",
    "        VVd = sentinel1 \\\n",
    "            .filter(ee.Filter.eq('instrumentMode', 'IW')) \\\n",
    "            .filter(ee.Filter.listContains('transmitterReceiverPolarisation', 'VV')) \\\n",
    "            .filter(ee.Filter.eq('orbitProperties_pass', 'DESCENDING')) \\\n",
    "            .map(corte) \\\n",
    "            .select(['VV']) \\\n",
    "            .filter(ee.Filter.eq('resolution_meters',10)) \\\n",
    "            .filterDate(startdate, enddate).median()\n",
    "    \n",
    "        #polarizacion cruzada\n",
    "        VHd = sentinel1 \\\n",
    "            .filter(ee.Filter.eq('instrumentMode', 'IW')) \\\n",
    "            .filter(ee.Filter.listContains('transmitterReceiverPolarisation', 'VH')) \\\n",
    "            .filter(ee.Filter.eq('orbitProperties_pass', 'DESCENDING')) \\\n",
    "            .map(corte) \\\n",
    "            .select(['VH']) \\\n",
    "            .filter(ee.Filter.eq('resolution_meters',10)) \\\n",
    "            .filterDate(startdate, enddate).median()\n",
    "    \n",
    "        # suavizado para reduccion de 'specle noise'\n",
    "        smoothing_radius = 10\n",
    "        VHd_filtered = VHd.focal_mean(smoothing_radius, 'circle', 'meters')\n",
    "        VVd_filtered = VVd.focal_mean(smoothing_radius, 'circle', 'meters')\n",
    "    \n",
    "        # 3ra componente en funcion de polarizaciones directa y cruzada\n",
    "        VHVVd_filtered = VHd_filtered.divide(VVd_filtered)\n",
    "    \n",
    "        # imagen final\n",
    "        image_desc_2021 = VHd_filtered.addBands(VVd_filtered).addBands(VHVVd_filtered)\n",
    "    \n",
    "        # Oprcion 1: descarga de imagen S1 por departamento a Google Drive\n",
    "        task = ee.batch.Export.image.toDrive(\n",
    "            image= image_desc_2021,  \n",
    "            region= aoi,  \n",
    "            description = 's1_export',\n",
    "            folder = 'S1_files',\n",
    "            fileNamePrefix= f's1_{file[0:-8]}',\n",
    "            #maxPixels: 1e15, \n",
    "            scale=1000,  #cambiar escala a 10 m\n",
    "            crs='EPSG:4326')\n",
    "    \n",
    "        # Opcion 2:descarga de imagen S1 por departamento a bucket\n",
    "        #task = ee.batch.Export.image.CloudStorage(\n",
    "        #                image= image_desc_2021,\n",
    "        #                bucket = '{BUCKET}',\n",
    "        #                fileNamePrefix = f\"{FILE_NAME}\",\n",
    "        #                maxPixels = 8030040147504,\n",
    "        #                scale=10,\n",
    "        #                region= aoi,  \n",
    "        #                crs='EPSG:4326')                                 \n",
    "    \n",
    "        task.start()\n",
    "\n",
    "        import time \n",
    "        while task.active():\n",
    "            print('Polling for task (id: {}).'.format(task.id))\n",
    "            time.sleep(5)"
   ]
  },
  {
   "cell_type": "code",
   "execution_count": null,
   "metadata": {
    "colab": {
     "base_uri": "https://localhost:8080/"
    },
    "executionInfo": {
     "elapsed": 395,
     "status": "ok",
     "timestamp": 1658249273598,
     "user": {
      "displayName": "Melisa Apellaniz",
      "userId": "11334549327842058630"
     },
     "user_tz": 180
    },
    "id": "2SIYfH8en-q7",
    "outputId": "8d310067-846d-4f07-9aa5-6a2868e31e6c"
   },
   "outputs": [],
   "source": [
    "#verificar que las imagenes S1 fueron correctamente descargados\n",
    "!ls $PATH_S1_FILES"
   ]
  },
  {
   "cell_type": "markdown",
   "metadata": {
    "id": "8HTheecLDDUW"
   },
   "source": [
    "-----------------------------------------"
   ]
  },
  {
   "cell_type": "markdown",
   "metadata": {
    "id": "ZviGIqn7D1no"
   },
   "source": [
    "# **2. Generacion de mascaras de area construida**"
   ]
  },
  {
   "cell_type": "markdown",
   "metadata": {
    "id": "yADhFw9RD_RL"
   },
   "source": [
    "##  **1.1. Instalación e importación de librerias**"
   ]
  },
  {
   "cell_type": "code",
   "execution_count": null,
   "metadata": {
    "colab": {
     "base_uri": "https://localhost:8080/"
    },
    "executionInfo": {
     "elapsed": 4399,
     "status": "ok",
     "timestamp": 1658249286268,
     "user": {
      "displayName": "Melisa Apellaniz",
      "userId": "11334549327842058630"
     },
     "user_tz": 180
    },
    "id": "_NY-cYWaEO7u",
    "outputId": "ac0d3aee-2bef-463c-8b4a-49edc8d9d691"
   },
   "outputs": [],
   "source": [
    "!pip install geopandas"
   ]
  },
  {
   "cell_type": "code",
   "execution_count": null,
   "metadata": {
    "colab": {
     "base_uri": "https://localhost:8080/"
    },
    "executionInfo": {
     "elapsed": 2769,
     "status": "ok",
     "timestamp": 1658249292877,
     "user": {
      "displayName": "Melisa Apellaniz",
      "userId": "11334549327842058630"
     },
     "user_tz": 180
    },
    "id": "6CkHh_KZP9cZ",
    "outputId": "3c21eac5-65b1-4c2e-eb3d-aa248e5cc1c0"
   },
   "outputs": [],
   "source": [
    "!pip install gdal"
   ]
  },
  {
   "cell_type": "code",
   "execution_count": null,
   "metadata": {
    "id": "fZaia5fB-_Es"
   },
   "outputs": [],
   "source": [
    "from osgeo import gdal\n",
    "from pathlib import Path\n",
    "import glob\n",
    "import numpy as np\n",
    "from os import remove\n",
    "import subprocess\n",
    "from os import remove\n",
    "import geopandas as gpd"
   ]
  },
  {
   "cell_type": "markdown",
   "metadata": {
    "id": "TlaLjpiOEXkQ"
   },
   "source": [
    "## **1.2. Declaración de variables**"
   ]
  },
  {
   "cell_type": "code",
   "execution_count": null,
   "metadata": {
    "id": "fYt363IIEWsG"
   },
   "outputs": [],
   "source": [
    "#bucket con los archivos a utilizar\n",
    "#LULC\n",
    "BUCKET_LULC = \"gs://dym-workshops-public/immap/asentamientos/aux_data/LULC/*.tif\"\n",
    "#MUNICIPIOS\n",
    "BUCKET_MUN = \"gs://dym-workshops-public/immap/asentamientos/aux_data/municipios/munis_final.gpkg\"\n",
    "\n",
    "#creamos las carpetas a donde descargaremos los archivos desde el bucket\n",
    "BASE_PATH = \"drive/MyDrive/IMMAP/Informal_settlements/data/\"\n",
    "PATH_LULC_FILES = f\"{BASE_PATH}LULC_files/\"\n",
    "PATH_MUN_FILES = f\"{BASE_PATH}MUN_files/\"\n",
    "\n",
    "#carpeta de guardado para cada achivo vectorial de municipio\n",
    "#PATH_MUN_INDIVIDUALES = f'{BASE_PATH}/MUNICIPIOS_INDIVIDUALES/'\n",
    "\n",
    "#carpeta de guardado de las mascara de area construida\n",
    "PATH_LULC_MASK = f\"{BASE_PATH}/LULC_MASK/\"\n",
    "\n",
    "#PARAMETROS GENERALES\n",
    "aoi = 'colombia'\n",
    "prj = \"32618\""
   ]
  },
  {
   "cell_type": "markdown",
   "metadata": {
    "id": "sN9GqrMlG3-X"
   },
   "source": [
    "## **1.3. Descarga de archivos desde bucket**"
   ]
  },
  {
   "cell_type": "code",
   "execution_count": null,
   "metadata": {
    "colab": {
     "base_uri": "https://localhost:8080/"
    },
    "executionInfo": {
     "elapsed": 23255,
     "status": "ok",
     "timestamp": 1658249330777,
     "user": {
      "displayName": "Melisa Apellaniz",
      "userId": "11334549327842058630"
     },
     "user_tz": 180
    },
    "id": "STfQYy6jG0yX",
    "outputId": "3d182a64-a163-4ddf-e89b-b3bd73b3a24c"
   },
   "outputs": [],
   "source": [
    "#LULC\n",
    "!mkdir -p $PATH_LULC_FILES   #crea la carpeta\n",
    "!gsutil -m cp -r $BUCKET_LULC   $PATH_LULC_FILES # descarga de archivos\n",
    "\n",
    "#MUNICIPIOS\n",
    "!mkdir -p $PATH_MUN_FILES   #crea la carpeta\n",
    "!gsutil -m cp -r $BUCKET_MUN   $PATH_MUN_FILES # descarga de archivos"
   ]
  },
  {
   "cell_type": "markdown",
   "metadata": {
    "id": "fq-KYc_7IfVX"
   },
   "source": [
    "## **1.4. Genero mosaico LULC**"
   ]
  },
  {
   "cell_type": "code",
   "execution_count": null,
   "metadata": {
    "colab": {
     "base_uri": "https://localhost:8080/"
    },
    "executionInfo": {
     "elapsed": 1191,
     "status": "ok",
     "timestamp": 1658249334905,
     "user": {
      "displayName": "Melisa Apellaniz",
      "userId": "11334549327842058630"
     },
     "user_tz": 180
    },
    "id": "kvrkZfWpJM_u",
    "outputId": "f31d3651-e56e-4543-db19-f970f43c6c4e"
   },
   "outputs": [],
   "source": [
    "for file in os.listdir(PATH_LULC_FILES):\n",
    "    print(file)"
   ]
  },
  {
   "cell_type": "code",
   "execution_count": null,
   "metadata": {
    "id": "sWE0V9KEG073"
   },
   "outputs": [],
   "source": [
    "# unificar la proyeccion de los archivos LULC\n",
    "for file in os.listdir(PATH_LULC_FILES):\n",
    "    if file.startswith('18'):\n",
    "    #if file.endswith('.tif'):\n",
    "        ds = gdal.Open(f'{PATH_LULC_FILES}{file}')\n",
    "        output_file = f'{PATH_LULC_FILES}{file[0:-4]}_epsg{prj}.vrt'\n",
    "        dsReprj = gdal.Warp(output_file, ds, dstSRS=f'EPSG:{prj}', format='VRT')\n",
    "        #ds = None\n",
    "        #dsReprj = None"
   ]
  },
  {
   "cell_type": "code",
   "execution_count": null,
   "metadata": {
    "id": "m1Gn6jWcZsDr"
   },
   "outputs": [],
   "source": [
    "# mosaico\n",
    "search_criteria = \"*.vrt\"\n",
    "q = os.path.join(PATH_LULC_FILES, search_criteria)"
   ]
  },
  {
   "cell_type": "code",
   "execution_count": null,
   "metadata": {
    "colab": {
     "base_uri": "https://localhost:8080/"
    },
    "executionInfo": {
     "elapsed": 493,
     "status": "ok",
     "timestamp": 1658250329231,
     "user": {
      "displayName": "Melisa Apellaniz",
      "userId": "11334549327842058630"
     },
     "user_tz": 180
    },
    "id": "gzYbyLeoaJka",
    "outputId": "a81a76f8-ab8d-4baa-e722-db40dc238f6c"
   },
   "outputs": [],
   "source": [
    "#mosaico \n",
    "files_mosaic = glob.glob(os.path.join(PATH_LULC_FILES, \"*.vrt\"))\n",
    "file_txt = 'files.txt'\n",
    "\n",
    "textfile = open(f'{PATH_LULC_FILES}/{file_txt}', \"w\")\n",
    "for line in files_mosaic:\n",
    "    textfile.write(line + \"\\n\")\n",
    "textfile.close()\n",
    "\n",
    "mosaic_path = f'{PATH_LULC_FILES}lulc2021_mosaic.vrt' # ruta de destino \n",
    "txt = f'{PATH_LULC_FILES}files.txt'\n",
    "!gdalbuildvrt -input_file_list $txt $mosaic_path"
   ]
  },
  {
   "cell_type": "code",
   "execution_count": null,
   "metadata": {
    "colab": {
     "base_uri": "https://localhost:8080/"
    },
    "executionInfo": {
     "elapsed": 12010,
     "status": "ok",
     "timestamp": 1658250854701,
     "user": {
      "displayName": "Melisa Apellaniz",
      "userId": "11334549327842058630"
     },
     "user_tz": 180
    },
    "id": "68Q6-GTEWA5h",
    "outputId": "c12aa3a0-ec22-46d3-937b-676ce96228fc"
   },
   "outputs": [],
   "source": [
    "for file in os.listdir(PATH_MUN_FILES):\n",
    "    mun = gpd.read_file(Path(f'{PATH_MUN_FILES}{file}'))\n",
    "    for i, row in mun.iterrows():\n",
    "        municipio = row['COD_MUNICIPIO']\n",
    "        dpto = row['DPTO_COD']\n",
    "        if row['COD_MUNICIPIO']== '23001':\n",
    "            if row['DPTO_COD']== '23':\n",
    "                outpath_folder = f'{PATH_MUN_FILES}{dpto}/{municipio}/'\n",
    "                os.makedirs(outpath_folder, exist_ok=True)\n",
    "                outpath_municipio = f'{outpath_folder}{municipio}.geojson'\n",
    "                gpd.GeoDataFrame(geometry=list(row.geometry)).to_file(outpath_municipio)\n",
    "\n",
    "                mask_folder = f'{PATH_LULC_FILES}BUILT_MASK/{dpto}/{municipio}/'\n",
    "                os.makedirs(mask_folder, exist_ok=True)\n",
    "\n",
    "                for file in os.listdir(outpath_folder):\n",
    "                    search_criteria_geojson = f'{outpath_folder}*.geojson'\n",
    "                    subset_files = glob.glob(search_criteria_geojson)\n",
    "            \n",
    "                    for fl in subset_files:\n",
    "                        infile = f'{PATH_LULC_FILES}lulc2021_mosaic.vrt'\n",
    "                        outfile = f'{mask_folder}{municipio}.vrt'\n",
    "                        ds = gdal.Open(infile)\n",
    "                        ds_recorte = gdal.Warp(outfile, ds, cutlineDSName = fl, cropToCutline = True, dstNodata = np.nan)\n",
    "                        ds_recorte = None\n",
    "                \n",
    "                        # set no data as nan and mask out non urban classes\n",
    "                        raster = gdal.Open(outfile)\n",
    "                        noDataVal = raster.GetRasterBand(1).GetNoDataValue() \n",
    "                        array = raster.GetRasterBand(1).ReadAsArray(0,0,raster.RasterXSize,raster.RasterYSize).astype(float) \n",
    "                        reclass = array\n",
    "                        reclass[np.where(array == noDataVal)] = np.nan\n",
    "                        reclass[np.where(array != 7)] = 0\n",
    "                        reclass[np.where(array == 7)] = 1\n",
    "\n",
    "                        #save new file\n",
    "                        driver = gdal.GetDriverByName('GTiff')\n",
    "                        file = driver.Create(f'{mask_folder}/{municipio}.tif', raster.RasterXSize,raster.RasterYSize, 1, gdal.GDT_Float32)\n",
    "                        file.GetRasterBand(1).WriteArray(reclass)\n",
    "                        file.GetRasterBand(1).SetNoDataValue(np.nan)\n",
    "\n",
    "                        # spatial ref system\n",
    "                        file.SetProjection(raster.GetProjection())\n",
    "                        file.SetGeoTransform(raster.GetGeoTransform())\n",
    "                        file.FlushCache()\n"
   ]
  },
  {
   "cell_type": "code",
   "execution_count": null,
   "metadata": {
    "id": "jQgaqOUxG_Qd"
   },
   "outputs": [],
   "source": []
  }
 ],
 "metadata": {
  "colab": {
   "collapsed_sections": [],
   "name": "0_Descarga_Procesamiento_imagenes_IS.ipynb",
   "provenance": [
    {
     "file_id": "1EsMp4D3u9ime0G3ukPvoDv73wTwAE1b4",
     "timestamp": 1658236590625
    },
    {
     "file_id": "1U9oU3nmlIAhZPx4jNrZqhX7hDbBGpIB0",
     "timestamp": 1658236183693
    },
    {
     "file_id": "1z6TTNuSxBVgEq-rnkE-LffpFQS9Dyyn6",
     "timestamp": 1657809331291
    },
    {
     "file_id": "1Jz0MfvhJT9iAkkM4688HDTJMaNRwBCNe",
     "timestamp": 1651756268848
    },
    {
     "file_id": "1bpiDDz66ZsZdNMm76DdPwzTRc2fY5C5l",
     "timestamp": 1645536173341
    }
   ]
  },
  "kernelspec": {
   "display_name": "Python 3 (ipykernel)",
   "language": "python",
   "name": "python3"
  },
  "language_info": {
   "codemirror_mode": {
    "name": "ipython",
    "version": 3
   },
   "file_extension": ".py",
   "mimetype": "text/x-python",
   "name": "python",
   "nbconvert_exporter": "python",
   "pygments_lexer": "ipython3",
   "version": "3.7.12"
  },
  "toc": {
   "base_numbering": 1,
   "nav_menu": {},
   "number_sections": true,
   "sideBar": true,
   "skip_h1_title": false,
   "title_cell": "Table of Contents",
   "title_sidebar": "Contents",
   "toc_cell": false,
   "toc_position": {},
   "toc_section_display": true,
   "toc_window_display": false
  }
 },
 "nbformat": 4,
 "nbformat_minor": 1
}
