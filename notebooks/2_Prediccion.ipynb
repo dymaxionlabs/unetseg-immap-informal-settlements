{
 "cells": [
  {
   "cell_type": "markdown",
   "metadata": {},
   "source": [
    "# Detección de crecimiento urbano con imagenes del satélite Sentinel - 1\n",
    "\n",
    "## 2_ Predicción\n",
    "\n",
    "Este notebook genera la prediccion del modelo sobre un nuevo dataset. Para ello primero descargamos las imagenes satelitales y luego con satproc generamos el dataset de predicción con el formato necesario para el modelo de ML\n",
    "\n",
    "### Importación de librerias y definicion de variables"
   ]
  },
  {
   "cell_type": "code",
   "execution_count": null,
   "metadata": {},
   "outputs": [],
   "source": [
    "from unetseg.predict import PredictConfig, predict\n",
    "from unetseg.evaluate import plot_data_results\n",
    "import subprocess\n",
    "import os\n",
    "import pandas as pd\n",
    "import glob"
   ]
  },
  {
   "cell_type": "code",
   "execution_count": null,
   "metadata": {},
   "outputs": [],
   "source": [
    "CSV_RESULTS_FILE = \"../data/CSV_files/buckets_v3_3_resultados.csv\" \n",
    "CSV_IMG_S2_FILE  = \"../data/CSV_files/buckets_v3_1_images-s1.csv\"\n",
    "    \n",
    "BANDS = \"VHd_VVd_VHdVVd\"\n",
    "YEAR  = \"2021\"\n",
    "BASE_PATH = \"../\"\n",
    "\n",
    "#model\n",
    "SIZE      = 100\n",
    "STEP_SIZE = SIZE\n",
    "\n",
    "MODEL =  f'UNet_TEST_160x160_spe100_3N_spe300_colombia_VHd_VVd_VHdVVd.h5'\n",
    "\n",
    "#para trabajar con una sola zona --> True , para correr todo -->False\n",
    "CONDITION = False\n",
    "ZONA = \"pacifico\""
   ]
  },
  {
   "cell_type": "markdown",
   "metadata": {},
   "source": [
    "### Satproc\n",
    "\n",
    "Con esta herramienta genereamos un dataset de imágenes de predicción que, a diferencia del de entrenamiento, solo contiene imágenes."
   ]
  },
  {
   "cell_type": "code",
   "execution_count": null,
   "metadata": {},
   "outputs": [],
   "source": [
    "def execute_satproc_function(SIZE,STEP_SIZE,BASE_PATH,img_folder,YEAR,DPTO_COD,COD_MUNICIPIO):\n",
    "   \n",
    "   \n",
    "    path_to_files  = f'{img_folder}/{COD_MUNICIPIO}/*.tif'\n",
    "    dataset_folder_ = f'{BASE_PATH}/dataset/data_predict/province_{COD_MUNICIPIO}_{DPTO_COD}_year{YEAR}/{str(SIZE)}_{str(STEP_SIZE)}/'\n",
    "  \n",
    "    print(\"path_to_files-->\",path_to_files)\n",
    "    print(\"dataset_folder_-->\",dataset_folder_)\n",
    "   \n",
    "    !satproc_extract_chips $path_to_files \\\n",
    "                    -o $dataset_folder_ \\\n",
    "                    --size $SIZE \\\n",
    "                    --step-size $STEP_SIZE \\\n",
    "                    --rescale \\\n",
    "                    --rescale-mode values --min -15 --max 5\n",
    "    return dataset_folder_"
   ]
  },
  {
   "cell_type": "markdown",
   "metadata": {},
   "source": [
    "Pasamos la ruta de las imágenes de predicción y la ruta donde queremos que se guarde el resultado.\n",
    "\n"
   ]
  },
  {
   "cell_type": "markdown",
   "metadata": {},
   "source": [
    "## Prediccion"
   ]
  },
  {
   "cell_type": "markdown",
   "metadata": {},
   "source": [
    "Definimos la configuración para la predicción. Debemos pasar la ruta de las imágenes en el dataset de predicción, que es la ruta de salida de la línea anterior, y la correspondiente al modelo que entrenamos."
   ]
  },
  {
   "cell_type": "code",
   "execution_count": null,
   "metadata": {},
   "outputs": [],
   "source": [
    "def excetute_prediction (dataset_folder,BASE_PATH,YEAR,SIZE,STEP_SIZE,MODEL,DPTO_COD,COD_MUNICIPIO):\n",
    "    predict_config = PredictConfig(\n",
    "         \n",
    "            images_path   = dataset_folder, # ruta a las imagenes sobre las cuales queremos predecir\n",
    "            results_path  = f'{BASE_PATH}/dataset/data_results/province_{COD_MUNICIPIO}_{DPTO_COD}_year{YEAR}/{str(SIZE)}_{str(STEP_SIZE)}/'\n",
    ", # ruta de destino para nuestra predicción\n",
    "            batch_size  = 16,\n",
    "            model_path  = os.path.join(BASE_PATH +'data/weights', MODEL),  #  ruta al modelo (.h5)\n",
    "            height = 160,\n",
    "            width  = 160,\n",
    "            n_channels = 3,\n",
    "            n_classes  = 1,\n",
    "            class_weights = [1])\n",
    "\n",
    "    #A continuación ejecutamos la predicción\n",
    "    predict(predict_config)    \n",
    "    #plot_data_results(num_samples=2, fig_size=(2, 2), predict_config=predict_config, img_ch =2, n_bands=3)\n",
    "\n",
    "    #create VTR\n",
    "    !rm tmp_list.txt\n",
    "\n",
    "    vrt_path        = f'{predict_config.results_path}/../{COD_MUNICIPIO}_{YEAR}.vrt' # ruta de destino para nuestra predicción\n",
    "    tif_path        = f'{predict_config.results_path}/../{COD_MUNICIPIO}_{YEAR}.tif'\n",
    "    predict_results = f'{predict_config.results_path}/*tif' # ruta de destino para nuestra predicción\n",
    "\n",
    "    filenames = glob.glob(predict_results)\n",
    "\n",
    "    with open('tmp_list.txt', 'w') as f:\n",
    "        for line in filenames:\n",
    "            f.write(line)\n",
    "            f.write('\\n')\n",
    "    !gdalbuildvrt -input_file_list tmp_list.txt $vrt_path\n",
    "    \n",
    "    !gdal_translate -of GTiff -co COMPRESS=DEFLATE -co PREDICTOR=2 -co ZLEVEL=9 $vrt_path $tif_path\n",
    "    \n",
    "    return tif_path\n",
    "    "
   ]
  },
  {
   "cell_type": "markdown",
   "metadata": {},
   "source": [
    "## RUN"
   ]
  },
  {
   "cell_type": "code",
   "execution_count": null,
   "metadata": {},
   "outputs": [],
   "source": [
    "# load the data with pd.read_csv\n",
    "df = pd.read_csv(CSV_IMG_S2_FILE).reset_index()\n",
    "df_results = pd.read_csv(CSV_RESULTS_FILE).reset_index()\n",
    "\n",
    "df.sort_values(by=[\"PRIORIDAD\"], ascending=True)\n",
    "\n",
    "if CONDITION:\n",
    "   \n",
    "    df = df[df[\"REGION\"] == ZONA]\n",
    "\n",
    "\n",
    "    \n",
    "for index, row in df.iterrows():\n",
    "   \n",
    "    COD_MUNICIPIO = row['COD_MUNICIPIO']\n",
    "    NOM_MUNICIPIO = row['NOM_MUNICIPIO']\n",
    "    DPTO_COD      = row['DPTO_COD']\n",
    "    DPTO_NAME     = row['DPTO_NAME']\n",
    "    PRIORIDAD     = row['PRIORIDAD']\n",
    "    REGION        = row['REGION']\n",
    "    BUCKET_IMG    = row['BUCKET']\n",
    "    \n",
    "    print ('=================================================================================================')\n",
    "    print ( f'Working with {NOM_MUNICIPIO} - {DPTO_NAME}, corresponding with COD_MUNICIPIO {COD_MUNICIPIO} and DPTO_COD {DPTO_COD}' )\n",
    "    print ('=================================================================================================')\n",
    "\n",
    "    print ( f'priority number: {PRIORIDAD}')\n",
    "    print ( f'REGION : {REGION}')\n",
    "    ############################\n",
    "    ## Download images\n",
    "    ###########################\n",
    "    print (\"Download images...\")\n",
    "    img_folder = f'{BASE_PATH}/images_s1_{BANDS}/{YEAR}/'\n",
    "    !mkdir -p $img_folder\n",
    "    !gsutil -m cp -r -n $BUCKET_IMG  $img_folder\n",
    "    \n",
    "    ############################\n",
    "    ## Satproc  & predict \n",
    "    ###########################\n",
    "    \n",
    "    #read bucket\n",
    "    BUCKET_RESULTS = df_results[ df_results[\"COD_MUNICIPIO\"] == COD_MUNICIPIO].BUCKET\n",
    "    backet_r = BUCKET_RESULTS.values[0]\n",
    "    print (backet_r)\n",
    "    \n",
    "    #satproc\n",
    "    dataset_folder = execute_satproc_function(SIZE,STEP_SIZE,BASE_PATH,img_folder,YEAR,DPTO_COD,COD_MUNICIPIO)\n",
    "    #predict\n",
    "    TIF_path = excetute_prediction (dataset_folder,BASE_PATH,YEAR,SIZE,STEP_SIZE,MODEL,DPTO_COD,COD_MUNICIPIO)\n",
    "    \n",
    "    # upload to a bucket\n",
    "    !gsutil -m cp -r  $TIF_path $backet_r"
   ]
  }
 ],
 "metadata": {
  "colab": {
   "authorship_tag": "ABX9TyNKlws8+6PcuvJrSWdSmTxJ",
   "include_colab_link": true,
   "name": "2 - Entrenamiento",
   "provenance": []
  },
  "kernelspec": {
   "display_name": "Python 3 (ipykernel)",
   "language": "python",
   "name": "python3"
  },
  "language_info": {
   "codemirror_mode": {
    "name": "ipython",
    "version": 3
   },
   "file_extension": ".py",
   "mimetype": "text/x-python",
   "name": "python",
   "nbconvert_exporter": "python",
   "pygments_lexer": "ipython3",
   "version": "3.8.0"
  },
  "toc": {
   "base_numbering": 1,
   "nav_menu": {},
   "number_sections": true,
   "sideBar": true,
   "skip_h1_title": false,
   "title_cell": "Table of Contents",
   "title_sidebar": "Contents",
   "toc_cell": false,
   "toc_position": {},
   "toc_section_display": true,
   "toc_window_display": false
  }
 },
 "nbformat": 4,
 "nbformat_minor": 4
}
